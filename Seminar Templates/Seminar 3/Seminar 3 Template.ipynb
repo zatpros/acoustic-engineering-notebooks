{
  "cells": [
    {
      "cell_type": "markdown",
      "metadata": {
        "id": "C3_1bIxWayJy"
      },
      "source": [
        "# Seminar 3: Computing the Transfer Function and Simulating the Room Effect\n",
        "\n",
        "## Acoustic Engineering 2024-2025\n",
        "\n",
        "Genís Plaja - genis.plaja@upf.edu, Adriana Modrego - adriana.modrego@upf.edu, Zat Pros - zat.pros01@estudiant.upf.edu, Office 55.312\n",
        "__<p>28<sup>th</sup> OCTOBER 2024<p>__"
      ]
    },
    {
      "cell_type": "markdown",
      "metadata": {
        "id": "7YgEbRR3ayJ0"
      },
      "source": [
        "## Instructions for submission\n",
        "\n",
        "Like in the previous seminar session, you will have to submit this *jupyter notebook* with all the answers.\n",
        "\n",
        "__Considerations__:\n",
        "* Comment the code when needed.\n",
        "* **ALL RESPONSES MUST BE JUSTIFIED.** There is no need to submit a *report* but you need to explain your\n",
        "* **PLEASE DO NOT SEND YOUR GENERATED AUDIOS BUT DO SEND THE EXTERNAL AUDIO FILES YOU USE TO COMPLETE YOUR LAB. OTHERWISE I WON'T BE ABLE TO EXECUTE IT.**\n",
        "* You can upload files to Collab!\n",
        "\n",
        "\n"
      ]
    },
    {
      "cell_type": "code",
      "execution_count": 1,
      "metadata": {
        "id": "YgL7_r3dayJ0"
      },
      "outputs": [],
      "source": [
        "import numpy as np\n",
        "import matplotlib.pyplot as plt\n",
        "import IPython.display as ipd\n",
        "\n",
        "import scipy\n",
        "from scipy.io.wavfile import read\n",
        "from scipy.io.wavfile import write\n",
        "from scipy.fft import fft\n",
        "from scipy import signal as signal\n",
        "\n",
        "import soundfile as sf"
      ]
    },
    {
      "cell_type": "code",
      "execution_count": 2,
      "metadata": {},
      "outputs": [],
      "source": [
        "# functions used in the whole lab\n",
        "def read_sound(file):\n",
        "  \"\"\" read a mono wav sound file, assuming is mono, and convert it to a floating point array\n",
        "    Args:\n",
        "      file (str): File name\n",
        "    Returns:\n",
        "      sound_array (numpy.array): Array of samples as floating point values between -1 and 1\n",
        "      sampling_rate (int): Sampling rate\n",
        "  \"\"\"\n",
        "  # read sound file\n",
        "  sampling_rate, x = read(file)\n",
        "  # convert to floating point values between -1 and 1, assuming x are 16 bit integers\n",
        "  sound_array = np.float32(x) / 2**15\n",
        "  return sound_array, sampling_rate\n"
      ]
    },
    {
      "cell_type": "markdown",
      "metadata": {
        "id": "O4FgyL1HayJ1"
      },
      "source": [
        "## Exercise 1: Transfer Function Analysis\n",
        "\n",
        "In this exercise, we focus on computing the transfer function (TF) between a dry sound (synthesized in the previous lab) `x(t)` and a wet sound (original) `y(t)`. The goal is to analyze how the synthesized version differs from the original by applying the Fourier Transform to both signals. By calculating the ratio of the wet sound's Fourier Transform to the dry sound's Fourier Transform, we obtain the transfer function, which gives insight into how the system modified the sound during synthesis. To fully understand this process, students are expected to research transfer functions, study their role in signal processing, and explore how they reveal system characteristics. Key formulas, such as:\n",
        "$$H(f) = \\frac{Y(f)}{X(f)}$$\n"
      ]
    },
    {
      "cell_type": "code",
      "execution_count": 10,
      "metadata": {},
      "outputs": [],
      "source": []
    },
    {
      "cell_type": "markdown",
      "metadata": {},
      "source": [
        "<div class=\"alert alert-block alert-success\">\n",
        "\n",
        "__a) Research the concept of transfer functions and their significance in sound analysis. In your response, explain what transfer functions represent, how they can be analyzed, and what insights they provide about a system's behavior. Consider aspects such as amplitude and phase modifications, resonance, and potential applications in sound engineering. Reflect on how understanding transfer functions can improve sound quality and system design.__\n",
        "\n",
        "</div>\n"
      ]
    },
    {
      "cell_type": "markdown",
      "metadata": {},
      "source": []
    },
    {
      "cell_type": "markdown",
      "metadata": {},
      "source": [
        "<div class=\"alert alert-block alert-success\">\n",
        "\n",
        "__b) Time to get your hands dirty! Let’s compute the Fourier Transforms for both the dry sound (the original) and the wet sound (the synthesized version) using the `fft` function from `numpy`. Make sure to store the Fourier Transform of the dry sound in the variable `X_f` and the wet sound in `Y_f`.__ \n",
        "\n",
        "</div>\n",
        "\n"
      ]
    },
    {
      "cell_type": "code",
      "execution_count": null,
      "metadata": {},
      "outputs": [],
      "source": []
    },
    {
      "cell_type": "markdown",
      "metadata": {},
      "source": [
        "<div class=\"alert alert-block alert-success\">\n",
        "\n",
        "__c) Perform the calculation of the transfer function by dividing the Fourier Transform of the wet sound (`Y_f`) by the Fourier Transform of the dry sound (`X_f`). Store the result in the variable `H_f`, and print the resulting transfer function to analyze the results.__\n",
        "\n",
        "</div>\n"
      ]
    },
    {
      "cell_type": "code",
      "execution_count": null,
      "metadata": {},
      "outputs": [],
      "source": []
    },
    {
      "cell_type": "markdown",
      "metadata": {},
      "source": [
        "<div class=\"alert alert-block alert-success\">\n",
        "\n",
        "__d) Now it's time to dive deep into the analysis of your resulting transfer function `H_f`. What do you observe about its amplitude and phase characteristics? Are there any notable peaks or dips in the spectrum? How do these features correlate with the dry and wet sounds? Discuss what these observations reveal about the system's effects on the sound. Specifically, consider the following questions: What frequencies are most affected? Are there any signs of resonance or distortion? How might these characteristics influence sound quality and reproduction? Be detailed in your observations and explanations!__ \n",
        "\n",
        "</div>\n"
      ]
    },
    {
      "cell_type": "markdown",
      "metadata": {},
      "source": [
        "## Exercise 2: Impulse Response as a Filter\n",
        "\n",
        "In this exercise, we will take the transfer function derived from Exercise 1 and convert it into an impulse response. \n",
        "\n",
        "$$h(t) = \\mathcal{F}^{-1}\\{H(f)\\}$$\n",
        "\n",
        "This impulse response will act as a filter that we will apply to the dry sound through convolution, which can be expressed mathematically as:\n",
        "\n",
        "$$y(t) = h(t)*x(t)$$\n",
        "\n",
        "Our goal is to modify the synthesized sound so that it closely resembles the original sound, allowing us to analyze the filtering effects of the system. You will compute the impulse response, apply the filter, and then discuss your observations regarding the results"
      ]
    },
    {
      "cell_type": "markdown",
      "metadata": {},
      "source": [
        "<div class=\"alert alert-block alert-success\">\n",
        "\n",
        "__a) Compute the impulse response `h(t)` using the inverse Fourier Transform of the transfer function `H(f)`. Store the impulse response in a variable and visualize it to see how the system modifies the sound over time.__\n",
        "\n",
        "</div>"
      ]
    },
    {
      "cell_type": "code",
      "execution_count": null,
      "metadata": {},
      "outputs": [],
      "source": []
    },
    {
      "cell_type": "markdown",
      "metadata": {
        "id": "hY7NVBMRayJ-"
      },
      "source": [
        "<div class=\"alert alert-block alert-success\">\n",
        "\n",
        "__b) Comment on the resulting impulse response. What characteristics do you observe? Discuss any notable features, such as peaks or decay behavior, and how they might affect the sound when applied as a filter.__\n",
        "\n",
        "</div>"
      ]
    },
    {
      "cell_type": "markdown",
      "metadata": {
        "id": "clp3hZ2MayKB"
      },
      "source": [
        "<div class=\"alert alert-block alert-success\">\n",
        "\n",
        "__c) Apply the computed impulse response `h(t)` as a filter to the dry sound `x(t)` using convolution. Store the filtered output in a variable and visualize the resulting sound to compare it with the wet sound.__\n",
        "\n",
        "</div>"
      ]
    },
    {
      "cell_type": "code",
      "execution_count": null,
      "metadata": {},
      "outputs": [],
      "source": []
    },
    {
      "cell_type": "markdown",
      "metadata": {
        "id": "iqFJ4I4IayKB"
      },
      "source": [
        "<div class=\"alert alert-block alert-success\">\n",
        "\n",
        "__d) Comment on the result of the filtered sound. How closely does it resemble the wet sound? Discuss any differences or similarities you observe and what they might indicate about the filtering process.__\n",
        "\n",
        "</div>"
      ]
    },
    {
      "cell_type": "markdown",
      "metadata": {},
      "source": []
    },
    {
      "cell_type": "markdown",
      "metadata": {},
      "source": [
        "<div class=\"alert alert-block alert-success\">\n",
        "\n",
        "__e) Generate and compare the spectra of the filtered sound and the wet sound. Examine the similarities and differences in their frequency content, noting any shifts, attenuations, or amplifications in specific frequency bands.__\n",
        "\n",
        "</div>"
      ]
    },
    {
      "cell_type": "code",
      "execution_count": null,
      "metadata": {},
      "outputs": [],
      "source": []
    },
    {
      "cell_type": "markdown",
      "metadata": {},
      "source": [
        "## Exercise 3: Room effect\n",
        "\n",
        "In this side quest, you'll take your exploration of sound further by engaging in a practical recording exercise. Choose a sound and play it in a room. Using your mobile phone or another recording device, record the output of the sound in that environment. Once you have your recording, trim it so that its duration and content closely match the original sound. You will then upload this trimmed recording to your notebook.\n",
        "\n"
      ]
    },
    {
      "cell_type": "markdown",
      "metadata": {},
      "source": [
        "<div class=\"alert alert-block alert-success\">\n",
        "\n",
        "__a) Record a sound and play it in a room. Use a mobile phone or another recording device to capture the output. Trim the recording so that its duration and content match the original sound, and upload the trimmed sound file to your notebook.__\n",
        "\n",
        "</div>"
      ]
    },
    {
      "cell_type": "code",
      "execution_count": null,
      "metadata": {},
      "outputs": [],
      "source": []
    },
    {
      "cell_type": "markdown",
      "metadata": {},
      "source": [
        "<div class=\"alert alert-block alert-success\">\n",
        "\n",
        "__b) Perform the transfer function analysis on the recorded sound. Compute the impulse response and apply it to the dry sound (original sound) using convolution. Store the filtered output and visualize it.__\n",
        "\n",
        "</div>"
      ]
    },
    {
      "cell_type": "code",
      "execution_count": null,
      "metadata": {},
      "outputs": [],
      "source": []
    },
    {
      "cell_type": "markdown",
      "metadata": {},
      "source": [
        "<div class=\"alert alert-block alert-success\">\n",
        "\n",
        "__c) Compare the wet sound (your recorded output) with the computed sound. Discuss whether the process worked effectively in replicating the acoustic environment. What differences or similarities do you observe? Did the filtering process accurately capture the characteristics of the room?__ \n",
        "\n",
        "</div>"
      ]
    }
  ],
  "metadata": {
    "colab": {
      "provenance": []
    },
    "kernelspec": {
      "display_name": "Python 3",
      "language": "python",
      "name": "python3"
    },
    "language_info": {
      "codemirror_mode": {
        "name": "ipython",
        "version": 3
      },
      "file_extension": ".py",
      "mimetype": "text/x-python",
      "name": "python",
      "nbconvert_exporter": "python",
      "pygments_lexer": "ipython3",
      "version": "3.10.4"
    }
  },
  "nbformat": 4,
  "nbformat_minor": 0
}
